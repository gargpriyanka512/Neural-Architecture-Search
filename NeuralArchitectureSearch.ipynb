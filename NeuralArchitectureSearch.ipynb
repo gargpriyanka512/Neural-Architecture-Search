{
 "cells": [
  {
   "cell_type": "code",
   "execution_count": 37,
   "id": "0934476f-62e4-4ada-90e4-cee9de721049",
   "metadata": {},
   "outputs": [],
   "source": [
    "import torch\n",
    "import torch.nn as nn\n",
    "import torch.optim as optim\n",
    "import torch.nn.functional as F\n",
    "from torchvision import datasets, transforms\n",
    "from torch.utils.data import DataLoader, TensorDataset\n",
    "\n",
    "# Basic CNN model\n",
    "class CNN(nn.Module):\n",
    "    def __init__(self, conv_layers, numhidden, input_dim, dropout):\n",
    "        super(CNN, self).__init__()\n",
    "        layers = []\n",
    "        input_channels=1\n",
    "        for i in range(conv_layers):\n",
    "            layers.append(nn.Conv2d(input_channels, 32, kernel_size=3))\n",
    "            layers.append(nn.ReLU())\n",
    "            layers.append(nn.MaxPool2d(2))\n",
    "            input_channels=32\n",
    "            input_dim -= 2\n",
    "            input_dim /= 2\n",
    "            input_dim = int(input_dim)\n",
    "            if(input_dim <= 2): break\n",
    "        if(dropout > 0): layers.append(nn.Dropout(p=dropout))\n",
    "        self.conv = nn.Sequential(*layers)\n",
    "        self.fc1 = nn.Linear(32*input_dim*input_dim, numhidden)\n",
    "        self.fc2 = nn.Linear(numhidden, 4)\n",
    "\n",
    "    def forward(self, x):\n",
    "        x = self.conv(x)\n",
    "        x = torch.flatten(x, 1)\n",
    "        x = F.relu(self.fc1(x))\n",
    "        x = self.fc2(x)\n",
    "        return x\n",
    "        "
   ]
  },
  {
   "cell_type": "code",
   "execution_count": 38,
   "id": "ff336110-427f-4b22-a913-f2708b6e9dfb",
   "metadata": {},
   "outputs": [
    {
     "name": "stdout",
     "output_type": "stream",
     "text": [
      "Training set: (76516, 1, 28, 28), (76516, 1)\n",
      "Validation set: (32793, 1, 28, 28), (32793, 1)\n"
     ]
    }
   ],
   "source": [
    "import numpy as np\n",
    "\n",
    "# Retrieving OCTMNIST\n",
    "octmnist = np.load('octmnist.npz')\n",
    "octmnist_train = octmnist['train_images']\n",
    "labels_train = octmnist['train_labels']\n",
    "octmnist_val = octmnist['val_images']\n",
    "labels_val = octmnist['val_labels']\n",
    "octmnist_test = octmnist['test_images']\n",
    "labels_test = octmnist['test_labels']\n",
    "\n",
    "images = np.concatenate((octmnist_train, octmnist_val, octmnist_test), axis=0)\n",
    "labels = np.concatenate((labels_train, labels_val, labels_test), axis=0)\n",
    "\n",
    "\n",
    "data_train = images[: int(0.7*(images.shape[0]))]\n",
    "labels_train = labels[: int(0.7*(labels.shape[0]))]\n",
    "data_val = images[int(0.7*(images.shape[0])) : ]\n",
    "labels_val = labels[int(0.7*(labels.shape[0])) : ]\n",
    "\n",
    "# Normalize Pixel Values\n",
    "data_train = data_train/255.0\n",
    "data_val = data_val/255.0\n",
    "\n",
    "data_train = data_train.reshape((-1, 1, 28, 28))\n",
    "data_val = data_val.reshape((-1, 1, 28, 28))\n",
    "\n",
    "print(f'Training set: {data_train.shape}, {labels_train.shape}')\n",
    "print(f'Validation set: {data_val.shape}, {labels_val.shape}')"
   ]
  },
  {
   "cell_type": "code",
   "execution_count": 39,
   "id": "88ce62a0-c57e-4feb-8667-f8186b5838d9",
   "metadata": {},
   "outputs": [],
   "source": [
    "device = 'cuda' if torch.cuda.is_available() else 'cpu'\n",
    "\n",
    "data_train = torch.tensor(data_train, dtype=torch.float, device=device)\n",
    "labels_train = torch.tensor(labels_train, dtype=torch.long, device=device)\n",
    "data_val = torch.tensor(data_val, dtype=torch.float, device=device)\n",
    "labels_val = torch.tensor(labels_val, dtype=torch.long, device=device)\n",
    "\n",
    "train = TensorDataset(data_train, labels_train)\n",
    "val = TensorDataset(data_val, labels_val)\n",
    "\n",
    "train_loader = DataLoader(train, batch_size=128, shuffle=True)\n",
    "val_loader = DataLoader(val, batch_size=128, shuffle=True)"
   ]
  },
  {
   "cell_type": "code",
   "execution_count": 52,
   "id": "cb9db060-6492-41ff-a5a9-84aa47debacb",
   "metadata": {},
   "outputs": [
    {
     "name": "stdout",
     "output_type": "stream",
     "text": [
      "(3, 32, 242)\n"
     ]
    },
    {
     "data": {
      "image/png": "[encoded data removed]",
      "text/plain": [
       "<Figure size 640x480 with 1 Axes>"
      ]
     },
     "metadata": {},
     "output_type": "display_data"
    },
    {
     "name": "stdout",
     "output_type": "stream",
     "text": [
      "Labels :- 3\t3\t1\t0\t2\t2\t0\t0\n"
     ]
    }
   ],
   "source": [
    "import matplotlib.pyplot as plt\n",
    "import numpy as np\n",
    "import torchvision\n",
    "\n",
    "def imshow(img):\n",
    "    npimg = img.numpy()\n",
    "    print(npimg.shape)\n",
    "    plt.imshow(np.transpose(npimg, (1, 2, 0)))\n",
    "    plt.show()\n",
    "\n",
    "dataiter = iter(train_loader)\n",
    "images, labels = next(dataiter)\n",
    "images = images[:8].cpu()\n",
    "labels = labels[:8].cpu()\n",
    "\n",
    "imshow(torchvision.utils.make_grid(images))\n",
    "print('Labels :- ' + '\\t'.join(f'{labels[j].item()}' for j in range(8)))"
   ]
  },
  {
   "cell_type": "code",
   "execution_count": 53,
   "id": "3a7cbdba-18ee-48b4-9734-abc446324767",
   "metadata": {},
   "outputs": [],
   "source": [
    "# Model Evaluator\n",
    "def evaluate_model(model, epochs=3):\n",
    "    optimizer = optim.Adam(model.parameters())\n",
    "    criterion = nn.CrossEntropyLoss()\n",
    "    \n",
    "    for epoch in range(epochs):\n",
    "        model.train()\n",
    "        for data, target in train_loader:\n",
    "            data = data.to(device)\n",
    "            target = target.view(-1)\n",
    "            target = target.to(target)\n",
    "            \n",
    "            optimizer.zero_grad()\n",
    "            output = model(data)\n",
    "            loss = criterion(output, target)\n",
    "            loss.backward()\n",
    "            optimizer.step()\n",
    "    \n",
    "    # Validate the model\n",
    "    model.eval()\n",
    "    correct = 0\n",
    "    with torch.no_grad():\n",
    "        for data, target in val_loader:\n",
    "            data = data.to(device)\n",
    "            target = target.view(-1)\n",
    "            target = target.to(target)\n",
    "            \n",
    "            output = model(data)\n",
    "            pred = output.argmax(dim=1, keepdim=True)\n",
    "            correct += pred.eq(target.view_as(pred)).sum().item()\n",
    "    \n",
    "    accuracy = correct / len(val_loader.dataset)\n",
    "    return accuracy"
   ]
  },
  {
   "cell_type": "code",
   "execution_count": 59,
   "id": "0f825a83-5a5b-45f2-8d4d-5bebd8876b34",
   "metadata": {},
   "outputs": [],
   "source": [
    "# Searching algorithm -- implements random search strategy\n",
    "def search(num_trials, search_space, input_dim):\n",
    "    results = []\n",
    "    for _ in range(num_trials):\n",
    "        conv_layers = torch.randint(search_space['conv_layers'][0], search_space['conv_layers'][-1], (1,)).item()\n",
    "        numhidden = torch.randint(search_space['numhidden'][0], search_space['numhidden'][-1], (1,)).item()\n",
    "        dropout = search_space['dropout'][torch.randint(0, 4, (1,))]\n",
    "    \n",
    "        cnn = CNN(conv_layers, numhidden, input_dim, dropout)\n",
    "        cnn.to(device)\n",
    "        accuracy = evaluate_model(cnn)\n",
    "        results.append((conv_layers, numhidden, dropout, accuracy))\n",
    "\n",
    "    return results"
   ]
  },
  {
   "cell_type": "code",
   "execution_count": 60,
   "id": "3a895e53-a6bf-40e8-b23e-10cadfb026a6",
   "metadata": {},
   "outputs": [
    {
     "name": "stdout",
     "output_type": "stream",
     "text": [
      "Conv layers: 2, Hidden units: 219, Dropout: 0.2, Accuracy: 0.8193\n",
      "Conv layers: 2, Hidden units: 261, Dropout: 0.2, Accuracy: 0.8089\n",
      "Conv layers: 4, Hidden units: 264, Dropout: 0.2, Accuracy: 0.7949\n",
      "Conv layers: 1, Hidden units: 98, Dropout: 0.8, Accuracy: 0.7679\n",
      "Conv layers: 2, Hidden units: 34, Dropout: 0, Accuracy: 0.8043\n",
      "Conv layers: 2, Hidden units: 31, Dropout: 0.8, Accuracy: 0.7726\n",
      "Conv layers: 4, Hidden units: 357, Dropout: 0.8, Accuracy: 0.3413\n",
      "Conv layers: 2, Hidden units: 377, Dropout: 0.2, Accuracy: 0.8097\n",
      "Conv layers: 3, Hidden units: 272, Dropout: 0.5, Accuracy: 0.8018\n",
      "Conv layers: 4, Hidden units: 435, Dropout: 0.8, Accuracy: 0.3413\n",
      "Conv layers: 4, Hidden units: 431, Dropout: 0.5, Accuracy: 0.8074\n",
      "Conv layers: 1, Hidden units: 310, Dropout: 0, Accuracy: 0.8002\n",
      "Conv layers: 2, Hidden units: 475, Dropout: 0.8, Accuracy: 0.7930\n",
      "Conv layers: 2, Hidden units: 85, Dropout: 0.5, Accuracy: 0.7925\n",
      "Conv layers: 1, Hidden units: 237, Dropout: 0.5, Accuracy: 0.7985\n"
     ]
    }
   ],
   "source": [
    "# Search space -- denotes the choices of parameters the basic model can take\n",
    "search_space = {\n",
    "    'conv_layers' : (1, 5),\n",
    "    'numhidden' : (16, 512),\n",
    "    'dropout' : (0, 0.2, 0.5, 0.8)\n",
    "}\n",
    "results = search(num_trials=15, search_space=search_space, input_dim=data_train.shape[2])\n",
    "for config in results:\n",
    "    print(f\"Conv layers: {config[0]}, Hidden units: {config[1]}, Dropout: {config[2]}, Accuracy: {config[3]:.4f}\")"
   ]
  },
  {
   "cell_type": "code",
   "execution_count": null,
   "id": "764d52b2-c1a2-4f45-905b-e9fff8c18a96",
   "metadata": {},
   "outputs": [],
   "source": []
  }
 ],
 "metadata": {
  "kernelspec": {
   "display_name": "Python 3 (ipykernel)",
   "language": "python",
   "name": "python3"
  },
  "language_info": {
   "codemirror_mode": {
    "name": "ipython",
    "version": 3
   },
   "file_extension": ".py",
   "mimetype": "text/x-python",
   "name": "python",
   "nbconvert_exporter": "python",
   "pygments_lexer": "ipython3",
   "version": "3.12.2"
  }
 },
 "nbformat": 4,
 "nbformat_minor": 5
}
